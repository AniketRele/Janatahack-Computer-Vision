{
  "nbformat": 4,
  "nbformat_minor": 0,
  "metadata": {
    "colab": {
      "name": "janatahack3.ipynb",
      "provenance": [],
      "collapsed_sections": []
    },
    "kernelspec": {
      "name": "python3",
      "display_name": "Python 3"
    }
  },
  "cells": [
    {
      "cell_type": "code",
      "metadata": {
        "id": "szBWWBTa6EQ_",
        "colab_type": "code",
        "colab": {
          "base_uri": "https://localhost:8080/",
          "height": 35
        },
        "outputId": "2de17712-8c78-4abe-9571-b17668a2a3a5"
      },
      "source": [
        "import keras\n",
        "from keras.models import Sequential\n",
        "from keras.layers import Dense, Dropout, Flatten\n",
        "from keras.layers import Conv2D, MaxPooling2D\n",
        "from keras.utils import to_categorical\n",
        "from keras.preprocessing import image\n",
        "import numpy as np\n",
        "import pandas as pd\n",
        "import matplotlib.pyplot as plt\n",
        "from sklearn.model_selection import train_test_split\n",
        "from keras.utils import to_categorical\n",
        "from tqdm import tqdm\n",
        "from keras.preprocessing.image import ImageDataGenerator"
      ],
      "execution_count": 1,
      "outputs": [
        {
          "output_type": "stream",
          "text": [
            "Using TensorFlow backend.\n"
          ],
          "name": "stderr"
        }
      ]
    },
    {
      "cell_type": "code",
      "metadata": {
        "id": "IgYT0dxf6Sjr",
        "colab_type": "code",
        "colab": {}
      },
      "source": [
        "train = pd.read_csv('/content/drive/My Drive/Hackathon/janatahack/files/train_SOaYf6m/train.csv')\n",
        "test = pd.read_csv('/content/drive/My Drive/Hackathon/janatahack/files/test_vc2kHdQ.csv')"
      ],
      "execution_count": 0,
      "outputs": []
    },
    {
      "cell_type": "code",
      "metadata": {
        "id": "ZO2CQpHT6SnA",
        "colab_type": "code",
        "colab": {
          "base_uri": "https://localhost:8080/",
          "height": 35
        },
        "outputId": "55f523b9-09ab-49c5-ee96-045a996684b4"
      },
      "source": [
        "train_image = []\n",
        "for i in tqdm(range(train.shape[0])):\n",
        "    img = image.load_img('/content/drive/My Drive/Hackathon/janatahack/files/train_SOaYf6m/images/'+train['image_names'][i], \n",
        "                         target_size=(224,224,3), grayscale=False)\n",
        "    img = image.img_to_array(img)\n",
        "    img = img/255\n",
        "    train_image.append(img)\n",
        "X = np.array(train_image)"
      ],
      "execution_count": 4,
      "outputs": [
        {
          "output_type": "stream",
          "text": [
            "100%|██████████| 1646/1646 [07:21<00:00,  3.73it/s]\n"
          ],
          "name": "stderr"
        }
      ]
    },
    {
      "cell_type": "code",
      "metadata": {
        "id": "_NI27LNT6Spd",
        "colab_type": "code",
        "colab": {}
      },
      "source": [
        "y = train['emergency_or_not'].values\n",
        "y = to_categorical(y)"
      ],
      "execution_count": 0,
      "outputs": []
    },
    {
      "cell_type": "code",
      "metadata": {
        "id": "1dTKQDDh6S1x",
        "colab_type": "code",
        "colab": {
          "base_uri": "https://localhost:8080/",
          "height": 35
        },
        "outputId": "0df4f364-d77a-4524-878e-dacfd48b78fc"
      },
      "source": [
        "len(y)"
      ],
      "execution_count": 6,
      "outputs": [
        {
          "output_type": "execute_result",
          "data": {
            "text/plain": [
              "1646"
            ]
          },
          "metadata": {
            "tags": []
          },
          "execution_count": 6
        }
      ]
    },
    {
      "cell_type": "code",
      "metadata": {
        "id": "P4ldtEEu6SzY",
        "colab_type": "code",
        "colab": {}
      },
      "source": [
        "X_train, X_test, y_train, y_test = train_test_split(X, y, random_state=42, test_size=0.2)"
      ],
      "execution_count": 0,
      "outputs": []
    },
    {
      "cell_type": "code",
      "metadata": {
        "id": "XGrw2lRT6Sxj",
        "colab_type": "code",
        "colab": {}
      },
      "source": [
        "train_datagen = ImageDataGenerator(shear_range=0.2, zoom_range=0.2, horizontal_flip=True, rotation_range=40)"
      ],
      "execution_count": 0,
      "outputs": []
    },
    {
      "cell_type": "code",
      "metadata": {
        "id": "cmHYXPQ96SwK",
        "colab_type": "code",
        "colab": {}
      },
      "source": [
        "val_datagen = ImageDataGenerator()"
      ],
      "execution_count": 0,
      "outputs": []
    },
    {
      "cell_type": "code",
      "metadata": {
        "id": "xbbANnDY84dn",
        "colab_type": "code",
        "colab": {
          "base_uri": "https://localhost:8080/",
          "height": 641
        },
        "outputId": "dfaad6da-ceb4-42b6-b21d-4a3405f7a627"
      },
      "source": [
        "model = Sequential()\n",
        "model.add(Conv2D(32, kernel_size=(3, 3),activation='relu',input_shape=(224,224,3),padding='same'))\n",
        "model.add(MaxPooling2D(pool_size=(2, 2)))\n",
        "model.add(Conv2D(64, (3, 3), activation='relu'))\n",
        "model.add(MaxPooling2D(pool_size=(2, 2)))\n",
        "model.add(Conv2D(128, (3, 3), activation='relu'))\n",
        "model.add(MaxPooling2D(pool_size=(2, 2)))\n",
        "model.add(Conv2D(128, (3, 3), activation='relu'))\n",
        "model.add(MaxPooling2D(pool_size=(2, 2)))\n",
        "model.add(Dropout(0.2))\n",
        "model.add(Flatten())\n",
        "model.add(Dense(128, activation='relu'))\n",
        "model.add(Dropout(0.2))\n",
        "model.add(Dense(2, activation='sigmoid'))\n",
        "model.summary()"
      ],
      "execution_count": 13,
      "outputs": [
        {
          "output_type": "stream",
          "text": [
            "Model: \"sequential_2\"\n",
            "_________________________________________________________________\n",
            "Layer (type)                 Output Shape              Param #   \n",
            "=================================================================\n",
            "conv2d_5 (Conv2D)            (None, 224, 224, 32)      896       \n",
            "_________________________________________________________________\n",
            "max_pooling2d_5 (MaxPooling2 (None, 112, 112, 32)      0         \n",
            "_________________________________________________________________\n",
            "conv2d_6 (Conv2D)            (None, 110, 110, 64)      18496     \n",
            "_________________________________________________________________\n",
            "max_pooling2d_6 (MaxPooling2 (None, 55, 55, 64)        0         \n",
            "_________________________________________________________________\n",
            "conv2d_7 (Conv2D)            (None, 53, 53, 128)       73856     \n",
            "_________________________________________________________________\n",
            "max_pooling2d_7 (MaxPooling2 (None, 26, 26, 128)       0         \n",
            "_________________________________________________________________\n",
            "conv2d_8 (Conv2D)            (None, 24, 24, 128)       147584    \n",
            "_________________________________________________________________\n",
            "max_pooling2d_8 (MaxPooling2 (None, 12, 12, 128)       0         \n",
            "_________________________________________________________________\n",
            "dropout_3 (Dropout)          (None, 12, 12, 128)       0         \n",
            "_________________________________________________________________\n",
            "flatten_2 (Flatten)          (None, 18432)             0         \n",
            "_________________________________________________________________\n",
            "dense_3 (Dense)              (None, 128)               2359424   \n",
            "_________________________________________________________________\n",
            "dropout_4 (Dropout)          (None, 128)               0         \n",
            "_________________________________________________________________\n",
            "dense_4 (Dense)              (None, 2)                 258       \n",
            "=================================================================\n",
            "Total params: 2,600,514\n",
            "Trainable params: 2,600,514\n",
            "Non-trainable params: 0\n",
            "_________________________________________________________________\n"
          ],
          "name": "stdout"
        }
      ]
    },
    {
      "cell_type": "code",
      "metadata": {
        "id": "eykn5rz2ATCt",
        "colab_type": "code",
        "colab": {}
      },
      "source": [
        "model.compile(loss='binary_crossentropy',optimizer='Adam',metrics=['accuracy'])"
      ],
      "execution_count": 0,
      "outputs": []
    },
    {
      "cell_type": "code",
      "metadata": {
        "id": "5bRBRg8f7Pod",
        "colab_type": "code",
        "colab": {}
      },
      "source": [
        "train_generator = train_datagen.flow(X_train, y_train, batch_size=32)"
      ],
      "execution_count": 0,
      "outputs": []
    },
    {
      "cell_type": "code",
      "metadata": {
        "id": "ZtBftVOY7Prd",
        "colab_type": "code",
        "colab": {
          "base_uri": "https://localhost:8080/",
          "height": 1000
        },
        "outputId": "fae671ab-471a-44d3-be6e-78504ad2c8a7"
      },
      "source": [
        "batch_size = 32\n",
        "h = model.fit_generator(train_generator, epochs=30, steps_per_epoch=len(X_train) // batch_size, \n",
        "                        validation_data=(X_test, y_test),\n",
        "                        callbacks=[keras.callbacks.ModelCheckpoint('/content/drive/My Drive/Hackathon/janatahack/files/modelbest_{val_accuracy:.4f}.h5',\n",
        "                                                                   save_best_only=True,\n",
        "                                                                   save_weights_only=False,\n",
        "                                                                   monitor='val_accuracy')]\n",
        ")"
      ],
      "execution_count": 25,
      "outputs": [
        {
          "output_type": "stream",
          "text": [
            "Epoch 1/30\n",
            "41/41 [==============================] - 143s 3s/step - loss: 0.3867 - accuracy: 0.8259 - val_loss: 0.4343 - val_accuracy: 0.8045\n",
            "Epoch 2/30\n",
            "41/41 [==============================] - 143s 3s/step - loss: 0.3736 - accuracy: 0.8294 - val_loss: 0.5181 - val_accuracy: 0.8030\n",
            "Epoch 3/30\n",
            "41/41 [==============================] - 142s 3s/step - loss: 0.3769 - accuracy: 0.8279 - val_loss: 0.4101 - val_accuracy: 0.8258\n",
            "Epoch 4/30\n",
            "41/41 [==============================] - 145s 4s/step - loss: 0.3732 - accuracy: 0.8376 - val_loss: 0.6261 - val_accuracy: 0.7924\n",
            "Epoch 5/30\n",
            "41/41 [==============================] - 142s 3s/step - loss: 0.3650 - accuracy: 0.8357 - val_loss: 0.4699 - val_accuracy: 0.8061\n",
            "Epoch 6/30\n",
            "41/41 [==============================] - 142s 3s/step - loss: 0.3565 - accuracy: 0.8333 - val_loss: 0.4764 - val_accuracy: 0.8106\n",
            "Epoch 7/30\n",
            "41/41 [==============================] - 143s 3s/step - loss: 0.3413 - accuracy: 0.8470 - val_loss: 0.4177 - val_accuracy: 0.8106\n",
            "Epoch 8/30\n",
            "41/41 [==============================] - 145s 4s/step - loss: 0.3438 - accuracy: 0.8454 - val_loss: 0.4303 - val_accuracy: 0.8288\n",
            "Epoch 9/30\n",
            "41/41 [==============================] - 143s 3s/step - loss: 0.3336 - accuracy: 0.8474 - val_loss: 0.5089 - val_accuracy: 0.8136\n",
            "Epoch 10/30\n",
            "41/41 [==============================] - 143s 3s/step - loss: 0.3157 - accuracy: 0.8684 - val_loss: 0.3793 - val_accuracy: 0.8061\n",
            "Epoch 11/30\n",
            "41/41 [==============================] - 142s 3s/step - loss: 0.3600 - accuracy: 0.8345 - val_loss: 0.4230 - val_accuracy: 0.8197\n",
            "Epoch 12/30\n",
            "41/41 [==============================] - 144s 4s/step - loss: 0.3275 - accuracy: 0.8594 - val_loss: 0.6251 - val_accuracy: 0.7924\n",
            "Epoch 13/30\n",
            "41/41 [==============================] - 141s 3s/step - loss: 0.3154 - accuracy: 0.8618 - val_loss: 0.6493 - val_accuracy: 0.7727\n",
            "Epoch 14/30\n",
            "41/41 [==============================] - 142s 3s/step - loss: 0.3276 - accuracy: 0.8532 - val_loss: 0.3383 - val_accuracy: 0.8439\n",
            "Epoch 15/30\n",
            "41/41 [==============================] - 142s 3s/step - loss: 0.2902 - accuracy: 0.8719 - val_loss: 0.7769 - val_accuracy: 0.7652\n",
            "Epoch 16/30\n",
            "41/41 [==============================] - 143s 3s/step - loss: 0.2948 - accuracy: 0.8777 - val_loss: 0.5262 - val_accuracy: 0.8076\n",
            "Epoch 17/30\n",
            "41/41 [==============================] - 145s 4s/step - loss: 0.3194 - accuracy: 0.8567 - val_loss: 0.3780 - val_accuracy: 0.8242\n",
            "Epoch 18/30\n",
            "41/41 [==============================] - 145s 4s/step - loss: 0.3154 - accuracy: 0.8659 - val_loss: 0.8044 - val_accuracy: 0.7833\n",
            "Epoch 19/30\n",
            "41/41 [==============================] - 140s 3s/step - loss: 0.2836 - accuracy: 0.8826 - val_loss: 0.4626 - val_accuracy: 0.8136\n",
            "Epoch 20/30\n",
            "41/41 [==============================] - 145s 4s/step - loss: 0.3083 - accuracy: 0.8708 - val_loss: 0.4675 - val_accuracy: 0.8136\n",
            "Epoch 21/30\n",
            "41/41 [==============================] - 141s 3s/step - loss: 0.2826 - accuracy: 0.8782 - val_loss: 0.3277 - val_accuracy: 0.8561\n",
            "Epoch 22/30\n",
            "41/41 [==============================] - 142s 3s/step - loss: 0.2709 - accuracy: 0.8832 - val_loss: 0.4787 - val_accuracy: 0.8227\n",
            "Epoch 23/30\n",
            "41/41 [==============================] - 142s 3s/step - loss: 0.2774 - accuracy: 0.8754 - val_loss: 0.6048 - val_accuracy: 0.7894\n",
            "Epoch 24/30\n",
            "41/41 [==============================] - 141s 3s/step - loss: 0.2642 - accuracy: 0.8933 - val_loss: 0.5093 - val_accuracy: 0.7894\n",
            "Epoch 25/30\n",
            "41/41 [==============================] - 146s 4s/step - loss: 0.2655 - accuracy: 0.8902 - val_loss: 0.5915 - val_accuracy: 0.7955\n",
            "Epoch 26/30\n",
            "41/41 [==============================] - 141s 3s/step - loss: 0.2854 - accuracy: 0.8789 - val_loss: 0.5209 - val_accuracy: 0.8167\n",
            "Epoch 27/30\n",
            "41/41 [==============================] - 142s 3s/step - loss: 0.2471 - accuracy: 0.8976 - val_loss: 0.5343 - val_accuracy: 0.8364\n",
            "Epoch 28/30\n",
            "41/41 [==============================] - 141s 3s/step - loss: 0.3171 - accuracy: 0.8766 - val_loss: 0.4976 - val_accuracy: 0.8182\n",
            "Epoch 29/30\n",
            "41/41 [==============================] - 142s 3s/step - loss: 0.2655 - accuracy: 0.8929 - val_loss: 0.5706 - val_accuracy: 0.8167\n",
            "Epoch 30/30\n",
            "41/41 [==============================] - 144s 4s/step - loss: 0.2810 - accuracy: 0.8910 - val_loss: 0.3428 - val_accuracy: 0.8652\n"
          ],
          "name": "stdout"
        }
      ]
    },
    {
      "cell_type": "code",
      "metadata": {
        "id": "ddh5MtHJ6SuN",
        "colab_type": "code",
        "colab": {
          "base_uri": "https://localhost:8080/",
          "height": 35
        },
        "outputId": "1c5c0e5a-3feb-4b7e-f00f-31c256516a91"
      },
      "source": [
        "test_image = []\n",
        "for i in tqdm(range(test.shape[0])):\n",
        "    img = image.load_img('/content/drive/My Drive/Hackathon/janatahack/files/train_SOaYf6m/images/'+test['image_names'][i], \n",
        "                         target_size=(224,224,3), grayscale=False)\n",
        "    img = image.img_to_array(img)\n",
        "    img = img/255\n",
        "    test_image.append(img)\n",
        "test = np.array(test_image)"
      ],
      "execution_count": 26,
      "outputs": [
        {
          "output_type": "stream",
          "text": [
            "100%|██████████| 706/706 [03:20<00:00,  3.53it/s]\n"
          ],
          "name": "stderr"
        }
      ]
    },
    {
      "cell_type": "code",
      "metadata": {
        "id": "6eKaapAW6Ss6",
        "colab_type": "code",
        "colab": {}
      },
      "source": [
        "import tensorflow as tf\n",
        "model = tf.keras.models.load_model('/content/drive/My Drive/Hackathon/janatahack/files/modelbest_0.8652.h5')"
      ],
      "execution_count": 0,
      "outputs": []
    },
    {
      "cell_type": "code",
      "metadata": {
        "id": "sjrz127zYMsM",
        "colab_type": "code",
        "colab": {
          "base_uri": "https://localhost:8080/",
          "height": 92
        },
        "outputId": "be50d783-bd67-4bb6-f2a3-cb5d6371a919"
      },
      "source": [
        "prediction = model.predict_classes(test)"
      ],
      "execution_count": 28,
      "outputs": [
        {
          "output_type": "stream",
          "text": [
            "WARNING:tensorflow:From <ipython-input-28-30a6dc5ea0d4>:1: Sequential.predict_classes (from tensorflow.python.keras.engine.sequential) is deprecated and will be removed after 2021-01-01.\n",
            "Instructions for updating:\n",
            "Please use instead:* `np.argmax(model.predict(x), axis=-1)`,   if your model does multi-class classification   (e.g. if it uses a `softmax` last-layer activation).* `(model.predict(x) > 0.5).astype(\"int32\")`,   if your model does binary classification   (e.g. if it uses a `sigmoid` last-layer activation).\n"
          ],
          "name": "stdout"
        }
      ]
    },
    {
      "cell_type": "code",
      "metadata": {
        "id": "duSjJLjtYMyc",
        "colab_type": "code",
        "colab": {}
      },
      "source": [
        "test_again = pd.read_csv('/content/drive/My Drive/Hackathon/janatahack/files/test_vc2kHdQ.csv')"
      ],
      "execution_count": 0,
      "outputs": []
    },
    {
      "cell_type": "code",
      "metadata": {
        "id": "4LpPDk56YM3I",
        "colab_type": "code",
        "colab": {}
      },
      "source": [
        "new_data = {'image_names':test_again.image_names.values, 'emergency_or_not':prediction}\n",
        "submit = pd.DataFrame(new_data)"
      ],
      "execution_count": 0,
      "outputs": []
    },
    {
      "cell_type": "code",
      "metadata": {
        "id": "XAjHqzZlYYSr",
        "colab_type": "code",
        "colab": {
          "base_uri": "https://localhost:8080/",
          "height": 424
        },
        "outputId": "9c32e5b6-5e9d-44ff-9bf7-5204c5405e23"
      },
      "source": [
        "submit"
      ],
      "execution_count": 31,
      "outputs": [
        {
          "output_type": "execute_result",
          "data": {
            "text/html": [
              "<div>\n",
              "<style scoped>\n",
              "    .dataframe tbody tr th:only-of-type {\n",
              "        vertical-align: middle;\n",
              "    }\n",
              "\n",
              "    .dataframe tbody tr th {\n",
              "        vertical-align: top;\n",
              "    }\n",
              "\n",
              "    .dataframe thead th {\n",
              "        text-align: right;\n",
              "    }\n",
              "</style>\n",
              "<table border=\"1\" class=\"dataframe\">\n",
              "  <thead>\n",
              "    <tr style=\"text-align: right;\">\n",
              "      <th></th>\n",
              "      <th>image_names</th>\n",
              "      <th>emergency_or_not</th>\n",
              "    </tr>\n",
              "  </thead>\n",
              "  <tbody>\n",
              "    <tr>\n",
              "      <th>0</th>\n",
              "      <td>1960.jpg</td>\n",
              "      <td>0</td>\n",
              "    </tr>\n",
              "    <tr>\n",
              "      <th>1</th>\n",
              "      <td>668.jpg</td>\n",
              "      <td>1</td>\n",
              "    </tr>\n",
              "    <tr>\n",
              "      <th>2</th>\n",
              "      <td>2082.jpg</td>\n",
              "      <td>0</td>\n",
              "    </tr>\n",
              "    <tr>\n",
              "      <th>3</th>\n",
              "      <td>808.jpg</td>\n",
              "      <td>1</td>\n",
              "    </tr>\n",
              "    <tr>\n",
              "      <th>4</th>\n",
              "      <td>1907.jpg</td>\n",
              "      <td>0</td>\n",
              "    </tr>\n",
              "    <tr>\n",
              "      <th>...</th>\n",
              "      <td>...</td>\n",
              "      <td>...</td>\n",
              "    </tr>\n",
              "    <tr>\n",
              "      <th>701</th>\n",
              "      <td>674.jpg</td>\n",
              "      <td>1</td>\n",
              "    </tr>\n",
              "    <tr>\n",
              "      <th>702</th>\n",
              "      <td>1027.jpg</td>\n",
              "      <td>0</td>\n",
              "    </tr>\n",
              "    <tr>\n",
              "      <th>703</th>\n",
              "      <td>447.jpg</td>\n",
              "      <td>1</td>\n",
              "    </tr>\n",
              "    <tr>\n",
              "      <th>704</th>\n",
              "      <td>2176.jpg</td>\n",
              "      <td>0</td>\n",
              "    </tr>\n",
              "    <tr>\n",
              "      <th>705</th>\n",
              "      <td>1014.jpg</td>\n",
              "      <td>0</td>\n",
              "    </tr>\n",
              "  </tbody>\n",
              "</table>\n",
              "<p>706 rows × 2 columns</p>\n",
              "</div>"
            ],
            "text/plain": [
              "    image_names  emergency_or_not\n",
              "0      1960.jpg                 0\n",
              "1       668.jpg                 1\n",
              "2      2082.jpg                 0\n",
              "3       808.jpg                 1\n",
              "4      1907.jpg                 0\n",
              "..          ...               ...\n",
              "701     674.jpg                 1\n",
              "702    1027.jpg                 0\n",
              "703     447.jpg                 1\n",
              "704    2176.jpg                 0\n",
              "705    1014.jpg                 0\n",
              "\n",
              "[706 rows x 2 columns]"
            ]
          },
          "metadata": {
            "tags": []
          },
          "execution_count": 31
        }
      ]
    },
    {
      "cell_type": "code",
      "metadata": {
        "id": "Q2QlcMh0YcPL",
        "colab_type": "code",
        "colab": {}
      },
      "source": [
        "submit.to_csv('submission3.csv', index=False)"
      ],
      "execution_count": 0,
      "outputs": []
    }
  ]
}